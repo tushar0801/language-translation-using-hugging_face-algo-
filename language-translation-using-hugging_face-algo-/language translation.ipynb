{
 "cells": [
  {
   "cell_type": "code",
   "execution_count": 1,
   "id": "3c5a1ca2",
   "metadata": {},
   "outputs": [
    {
     "name": "stdout",
     "output_type": "stream",
     "text": [
      "Requirement already satisfied: transformers in c:\\users\\bhanu pratap singh\\appdata\\local\\programs\\python\\python310\\lib\\site-packages (4.27.3)\n",
      "Requirement already satisfied: ipywidgets in c:\\users\\bhanu pratap singh\\appdata\\local\\programs\\python\\python310\\lib\\site-packages (8.0.5)\n",
      "Collecting ipywidgets\n",
      "  Downloading ipywidgets-8.0.6-py3-none-any.whl (138 kB)\n",
      "     ---------------------------------------- 0.0/138.3 kB ? eta -:--:--\n",
      "     -- ------------------------------------- 10.2/138.3 kB ? eta -:--:--\n",
      "     -------- ---------------------------- 30.7/138.3 kB 325.1 kB/s eta 0:00:01\n",
      "     ---------- -------------------------- 41.0/138.3 kB 326.8 kB/s eta 0:00:01\n",
      "     ------------------------ ------------ 92.2/138.3 kB 525.1 kB/s eta 0:00:01\n",
      "     ------------------------------------ 138.3/138.3 kB 630.8 kB/s eta 0:00:00\n",
      "Requirement already satisfied: gradio in c:\\users\\bhanu pratap singh\\appdata\\local\\programs\\python\\python310\\lib\\site-packages (3.23.0)\n",
      "Requirement already satisfied: pyyaml>=5.1 in c:\\users\\bhanu pratap singh\\appdata\\local\\programs\\python\\python310\\lib\\site-packages (from transformers) (6.0)\n",
      "Requirement already satisfied: tokenizers!=0.11.3,<0.14,>=0.11.1 in c:\\users\\bhanu pratap singh\\appdata\\local\\programs\\python\\python310\\lib\\site-packages (from transformers) (0.12.1)\n",
      "Requirement already satisfied: packaging>=20.0 in c:\\users\\bhanu pratap singh\\appdata\\local\\programs\\python\\python310\\lib\\site-packages (from transformers) (23.0)\n",
      "Requirement already satisfied: filelock in c:\\users\\bhanu pratap singh\\appdata\\local\\programs\\python\\python310\\lib\\site-packages (from transformers) (3.8.0)\n",
      "Requirement already satisfied: requests in c:\\users\\bhanu pratap singh\\appdata\\local\\programs\\python\\python310\\lib\\site-packages (from transformers) (2.28.1)\n",
      "Requirement already satisfied: tqdm>=4.27 in c:\\users\\bhanu pratap singh\\appdata\\local\\programs\\python\\python310\\lib\\site-packages (from transformers) (4.64.1)\n",
      "Requirement already satisfied: huggingface-hub<1.0,>=0.11.0 in c:\\users\\bhanu pratap singh\\appdata\\local\\programs\\python\\python310\\lib\\site-packages (from transformers) (0.13.3)\n",
      "Requirement already satisfied: numpy>=1.17 in c:\\users\\bhanu pratap singh\\appdata\\roaming\\python\\python310\\site-packages (from transformers) (1.24.2)\n",
      "Requirement already satisfied: regex!=2019.12.17 in c:\\users\\bhanu pratap singh\\appdata\\local\\programs\\python\\python310\\lib\\site-packages (from transformers) (2022.9.13)\n",
      "Requirement already satisfied: traitlets>=4.3.1 in c:\\users\\bhanu pratap singh\\appdata\\local\\programs\\python\\python310\\lib\\site-packages (from ipywidgets) (5.8.1)\n",
      "Collecting widgetsnbextension~=4.0.7\n",
      "  Downloading widgetsnbextension-4.0.7-py3-none-any.whl (2.1 MB)\n",
      "     ---------------------------------------- 0.0/2.1 MB ? eta -:--:--\n",
      "      --------------------------------------- 0.0/2.1 MB ? eta -:--:--\n",
      "     - -------------------------------------- 0.1/2.1 MB 1.7 MB/s eta 0:00:02\n",
      "     --- ------------------------------------ 0.2/2.1 MB 1.6 MB/s eta 0:00:02\n",
      "     ---- ----------------------------------- 0.2/2.1 MB 1.4 MB/s eta 0:00:02\n",
      "     ---- ----------------------------------- 0.2/2.1 MB 1.3 MB/s eta 0:00:02\n",
      "     ----- ---------------------------------- 0.3/2.1 MB 1.1 MB/s eta 0:00:02\n",
      "     ----- ---------------------------------- 0.3/2.1 MB 1.1 MB/s eta 0:00:02\n",
      "     ----- ---------------------------------- 0.3/2.1 MB 874.1 kB/s eta 0:00:03\n",
      "     ----- ---------------------------------- 0.3/2.1 MB 874.1 kB/s eta 0:00:03\n",
      "     ------ --------------------------------- 0.3/2.1 MB 756.6 kB/s eta 0:00:03\n",
      "     ------ --------------------------------- 0.3/2.1 MB 676.8 kB/s eta 0:00:03\n",
      "     ------ --------------------------------- 0.3/2.1 MB 654.9 kB/s eta 0:00:03\n",
      "     ------ --------------------------------- 0.3/2.1 MB 654.9 kB/s eta 0:00:03\n",
      "     ------ --------------------------------- 0.4/2.1 MB 603.4 kB/s eta 0:00:03\n",
      "     ------- -------------------------------- 0.4/2.1 MB 562.0 kB/s eta 0:00:04\n",
      "     ------- -------------------------------- 0.4/2.1 MB 541.2 kB/s eta 0:00:04\n",
      "     ------- -------------------------------- 0.4/2.1 MB 521.4 kB/s eta 0:00:04\n",
      "     -------- ------------------------------- 0.4/2.1 MB 526.8 kB/s eta 0:00:04\n",
      "     -------- ------------------------------- 0.4/2.1 MB 526.8 kB/s eta 0:00:04\n",
      "     -------- ------------------------------- 0.5/2.1 MB 505.7 kB/s eta 0:00:04\n",
      "     --------- ------------------------------ 0.5/2.1 MB 505.0 kB/s eta 0:00:04\n",
      "     --------- ------------------------------ 0.5/2.1 MB 491.5 kB/s eta 0:00:04\n",
      "     --------- ------------------------------ 0.5/2.1 MB 496.6 kB/s eta 0:00:04\n",
      "     ---------- ----------------------------- 0.5/2.1 MB 486.7 kB/s eta 0:00:04\n",
      "     ---------- ----------------------------- 0.6/2.1 MB 482.4 kB/s eta 0:00:04\n",
      "     ----------- ---------------------------- 0.6/2.1 MB 482.7 kB/s eta 0:00:04\n",
      "     ----------- ---------------------------- 0.6/2.1 MB 487.2 kB/s eta 0:00:04\n",
      "     ----------- ---------------------------- 0.6/2.1 MB 485.3 kB/s eta 0:00:04\n",
      "     ------------ --------------------------- 0.7/2.1 MB 485.8 kB/s eta 0:00:03\n",
      "     ------------ --------------------------- 0.7/2.1 MB 491.5 kB/s eta 0:00:03\n",
      "     ------------- -------------------------- 0.7/2.1 MB 489.7 kB/s eta 0:00:03\n",
      "     ------------- -------------------------- 0.7/2.1 MB 486.3 kB/s eta 0:00:03\n",
      "     -------------- ------------------------- 0.7/2.1 MB 486.3 kB/s eta 0:00:03\n",
      "     -------------- ------------------------- 0.8/2.1 MB 489.8 kB/s eta 0:00:03\n",
      "     --------------- ------------------------ 0.8/2.1 MB 489.7 kB/s eta 0:00:03\n",
      "     --------------- ------------------------ 0.8/2.1 MB 504.1 kB/s eta 0:00:03\n",
      "     ---------------- ----------------------- 0.9/2.1 MB 515.6 kB/s eta 0:00:03\n",
      "     ------------------ --------------------- 1.0/2.1 MB 538.3 kB/s eta 0:00:03\n",
      "     ------------------- -------------------- 1.0/2.1 MB 558.4 kB/s eta 0:00:02\n",
      "     --------------------- ------------------ 1.1/2.1 MB 599.7 kB/s eta 0:00:02\n",
      "     --------------------- ------------------ 1.2/2.1 MB 606.5 kB/s eta 0:00:02\n",
      "     ---------------------- ----------------- 1.2/2.1 MB 618.2 kB/s eta 0:00:02\n",
      "     ----------------------- ---------------- 1.3/2.1 MB 629.4 kB/s eta 0:00:02\n",
      "     ------------------------- -------------- 1.3/2.1 MB 645.4 kB/s eta 0:00:02\n",
      "     -------------------------- ------------- 1.4/2.1 MB 665.3 kB/s eta 0:00:02\n",
      "     --------------------------- ------------ 1.5/2.1 MB 689.1 kB/s eta 0:00:01\n",
      "     ----------------------------- ---------- 1.6/2.1 MB 711.9 kB/s eta 0:00:01\n",
      "     ------------------------------ --------- 1.6/2.1 MB 729.8 kB/s eta 0:00:01\n",
      "     -------------------------------- ------- 1.7/2.1 MB 745.6 kB/s eta 0:00:01\n",
      "     --------------------------------- ------ 1.8/2.1 MB 771.2 kB/s eta 0:00:01\n",
      "     ----------------------------------- ---- 1.9/2.1 MB 803.8 kB/s eta 0:00:01\n",
      "     ------------------------------------- -- 2.0/2.1 MB 825.7 kB/s eta 0:00:01\n",
      "     ---------------------------------------  2.1/2.1 MB 851.6 kB/s eta 0:00:01\n",
      "     ---------------------------------------- 2.1/2.1 MB 851.2 kB/s eta 0:00:00\n",
      "Requirement already satisfied: ipykernel>=4.5.1 in c:\\users\\bhanu pratap singh\\appdata\\local\\programs\\python\\python310\\lib\\site-packages (from ipywidgets) (6.20.1)\n",
      "Collecting jupyterlab-widgets~=3.0.7\n",
      "  Downloading jupyterlab_widgets-3.0.7-py3-none-any.whl (198 kB)\n",
      "     ---------------------------------------- 0.0/198.2 kB ? eta -:--:--\n",
      "     --------------------------------- ---- 174.1/198.2 kB 3.5 MB/s eta 0:00:01\n",
      "     -------------------------------------- 198.2/198.2 kB 2.4 MB/s eta 0:00:00\n",
      "Requirement already satisfied: ipython>=6.1.0 in c:\\users\\bhanu pratap singh\\appdata\\local\\programs\\python\\python310\\lib\\site-packages (from ipywidgets) (8.5.0)\n",
      "Requirement already satisfied: pydub in c:\\users\\bhanu pratap singh\\appdata\\local\\programs\\python\\python310\\lib\\site-packages (from gradio) (0.25.1)\n",
      "Requirement already satisfied: websockets>=10.0 in c:\\users\\bhanu pratap singh\\appdata\\local\\programs\\python\\python310\\lib\\site-packages (from gradio) (10.4)\n",
      "Requirement already satisfied: semantic-version in c:\\users\\bhanu pratap singh\\appdata\\local\\programs\\python\\python310\\lib\\site-packages (from gradio) (2.10.0)\n",
      "Requirement already satisfied: uvicorn in c:\\users\\bhanu pratap singh\\appdata\\local\\programs\\python\\python310\\lib\\site-packages (from gradio) (0.21.1)\n",
      "Requirement already satisfied: aiofiles in c:\\users\\bhanu pratap singh\\appdata\\local\\programs\\python\\python310\\lib\\site-packages (from gradio) (23.1.0)\n",
      "Requirement already satisfied: pillow in c:\\users\\bhanu pratap singh\\appdata\\local\\programs\\python\\python310\\lib\\site-packages (from gradio) (9.2.0)\n",
      "Requirement already satisfied: orjson in c:\\users\\bhanu pratap singh\\appdata\\local\\programs\\python\\python310\\lib\\site-packages (from gradio) (3.8.5)\n",
      "Requirement already satisfied: markdown-it-py[linkify]>=2.0.0 in c:\\users\\bhanu pratap singh\\appdata\\local\\programs\\python\\python310\\lib\\site-packages (from gradio) (2.2.0)\n",
      "Requirement already satisfied: jinja2 in c:\\users\\bhanu pratap singh\\appdata\\local\\programs\\python\\python310\\lib\\site-packages (from gradio) (3.1.2)\n",
      "Requirement already satisfied: markupsafe in c:\\users\\bhanu pratap singh\\appdata\\local\\programs\\python\\python310\\lib\\site-packages (from gradio) (2.1.1)\n",
      "Requirement already satisfied: fsspec in c:\\users\\bhanu pratap singh\\appdata\\local\\programs\\python\\python310\\lib\\site-packages (from gradio) (2023.1.0)\n",
      "Requirement already satisfied: python-multipart in c:\\users\\bhanu pratap singh\\appdata\\local\\programs\\python\\python310\\lib\\site-packages (from gradio) (0.0.6)\n",
      "Requirement already satisfied: ffmpy in c:\\users\\bhanu pratap singh\\appdata\\local\\programs\\python\\python310\\lib\\site-packages (from gradio) (0.3.0)\n",
      "Requirement already satisfied: httpx in c:\\users\\bhanu pratap singh\\appdata\\local\\programs\\python\\python310\\lib\\site-packages (from gradio) (0.23.3)\n",
      "Requirement already satisfied: aiohttp in c:\\users\\bhanu pratap singh\\appdata\\local\\programs\\python\\python310\\lib\\site-packages (from gradio) (3.8.4)\n",
      "Requirement already satisfied: matplotlib in c:\\users\\bhanu pratap singh\\appdata\\roaming\\python\\python310\\site-packages (from gradio) (3.6.3)\n",
      "Requirement already satisfied: typing-extensions in c:\\users\\bhanu pratap singh\\appdata\\local\\programs\\python\\python310\\lib\\site-packages (from gradio) (4.3.0)\n",
      "Requirement already satisfied: pandas in c:\\users\\bhanu pratap singh\\appdata\\roaming\\python\\python310\\site-packages (from gradio) (1.5.3)\n",
      "Requirement already satisfied: pydantic in c:\\users\\bhanu pratap singh\\appdata\\local\\programs\\python\\python310\\lib\\site-packages (from gradio) (1.10.4)\n",
      "Requirement already satisfied: fastapi in c:\\users\\bhanu pratap singh\\appdata\\local\\programs\\python\\python310\\lib\\site-packages (from gradio) (0.95.0)\n",
      "Requirement already satisfied: mdit-py-plugins<=0.3.3 in c:\\users\\bhanu pratap singh\\appdata\\local\\programs\\python\\python310\\lib\\site-packages (from gradio) (0.3.3)\n",
      "Requirement already satisfied: altair>=4.2.0 in c:\\users\\bhanu pratap singh\\appdata\\local\\programs\\python\\python310\\lib\\site-packages (from gradio) (4.2.2)\n",
      "Requirement already satisfied: jsonschema>=3.0 in c:\\users\\bhanu pratap singh\\appdata\\local\\programs\\python\\python310\\lib\\site-packages (from altair>=4.2.0->gradio) (4.17.3)\n",
      "Requirement already satisfied: entrypoints in c:\\users\\bhanu pratap singh\\appdata\\local\\programs\\python\\python310\\lib\\site-packages (from altair>=4.2.0->gradio) (0.4)\n",
      "Requirement already satisfied: toolz in c:\\users\\bhanu pratap singh\\appdata\\local\\programs\\python\\python310\\lib\\site-packages (from altair>=4.2.0->gradio) (0.12.0)\n",
      "Requirement already satisfied: pyzmq>=17 in c:\\users\\bhanu pratap singh\\appdata\\local\\programs\\python\\python310\\lib\\site-packages (from ipykernel>=4.5.1->ipywidgets) (24.0.1)\n",
      "Requirement already satisfied: matplotlib-inline>=0.1 in c:\\users\\bhanu pratap singh\\appdata\\roaming\\python\\python310\\site-packages (from ipykernel>=4.5.1->ipywidgets) (0.1.6)\n",
      "Requirement already satisfied: comm>=0.1.1 in c:\\users\\bhanu pratap singh\\appdata\\local\\programs\\python\\python310\\lib\\site-packages (from ipykernel>=4.5.1->ipywidgets) (0.1.2)\n",
      "Requirement already satisfied: jupyter-client>=6.1.12 in c:\\users\\bhanu pratap singh\\appdata\\local\\programs\\python\\python310\\lib\\site-packages (from ipykernel>=4.5.1->ipywidgets) (7.4.9)\n",
      "Requirement already satisfied: nest-asyncio in c:\\users\\bhanu pratap singh\\appdata\\local\\programs\\python\\python310\\lib\\site-packages (from ipykernel>=4.5.1->ipywidgets) (1.5.5)\n",
      "Requirement already satisfied: psutil in c:\\users\\bhanu pratap singh\\appdata\\local\\programs\\python\\python310\\lib\\site-packages (from ipykernel>=4.5.1->ipywidgets) (5.9.2)\n",
      "Requirement already satisfied: debugpy>=1.0 in c:\\users\\bhanu pratap singh\\appdata\\local\\programs\\python\\python310\\lib\\site-packages (from ipykernel>=4.5.1->ipywidgets) (1.6.3)\n",
      "Requirement already satisfied: tornado>=6.1 in c:\\users\\bhanu pratap singh\\appdata\\local\\programs\\python\\python310\\lib\\site-packages (from ipykernel>=4.5.1->ipywidgets) (6.2)\n",
      "Requirement already satisfied: pygments>=2.4.0 in c:\\users\\bhanu pratap singh\\appdata\\local\\programs\\python\\python310\\lib\\site-packages (from ipython>=6.1.0->ipywidgets) (2.14.0)\n",
      "Requirement already satisfied: colorama in c:\\users\\bhanu pratap singh\\appdata\\local\\programs\\python\\python310\\lib\\site-packages (from ipython>=6.1.0->ipywidgets) (0.4.5)\n",
      "Requirement already satisfied: stack-data in c:\\users\\bhanu pratap singh\\appdata\\local\\programs\\python\\python310\\lib\\site-packages (from ipython>=6.1.0->ipywidgets) (0.5.0)\n",
      "Requirement already satisfied: pickleshare in c:\\users\\bhanu pratap singh\\appdata\\local\\programs\\python\\python310\\lib\\site-packages (from ipython>=6.1.0->ipywidgets) (0.7.5)\n",
      "Requirement already satisfied: jedi>=0.16 in c:\\users\\bhanu pratap singh\\appdata\\local\\programs\\python\\python310\\lib\\site-packages (from ipython>=6.1.0->ipywidgets) (0.18.1)\n",
      "Requirement already satisfied: backcall in c:\\users\\bhanu pratap singh\\appdata\\local\\programs\\python\\python310\\lib\\site-packages (from ipython>=6.1.0->ipywidgets) (0.2.0)\n",
      "Requirement already satisfied: decorator in c:\\users\\bhanu pratap singh\\appdata\\local\\programs\\python\\python310\\lib\\site-packages (from ipython>=6.1.0->ipywidgets) (5.1.1)\n",
      "Requirement already satisfied: prompt-toolkit<3.1.0,>3.0.1 in c:\\users\\bhanu pratap singh\\appdata\\local\\programs\\python\\python310\\lib\\site-packages (from ipython>=6.1.0->ipywidgets) (3.0.31)\n",
      "Requirement already satisfied: mdurl~=0.1 in c:\\users\\bhanu pratap singh\\appdata\\local\\programs\\python\\python310\\lib\\site-packages (from markdown-it-py[linkify]>=2.0.0->gradio) (0.1.2)\n",
      "Requirement already satisfied: linkify-it-py<3,>=1 in c:\\users\\bhanu pratap singh\\appdata\\local\\programs\\python\\python310\\lib\\site-packages (from markdown-it-py[linkify]>=2.0.0->gradio) (2.0.0)\n",
      "Requirement already satisfied: python-dateutil>=2.8.1 in c:\\users\\bhanu pratap singh\\appdata\\roaming\\python\\python310\\site-packages (from pandas->gradio) (2.8.2)\n",
      "Requirement already satisfied: pytz>=2020.1 in c:\\users\\bhanu pratap singh\\appdata\\roaming\\python\\python310\\site-packages (from pandas->gradio) (2022.7.1)\n",
      "Requirement already satisfied: yarl<2.0,>=1.0 in c:\\users\\bhanu pratap singh\\appdata\\local\\programs\\python\\python310\\lib\\site-packages (from aiohttp->gradio) (1.8.2)\n",
      "Requirement already satisfied: aiosignal>=1.1.2 in c:\\users\\bhanu pratap singh\\appdata\\local\\programs\\python\\python310\\lib\\site-packages (from aiohttp->gradio) (1.3.1)\n",
      "Requirement already satisfied: charset-normalizer<4.0,>=2.0 in c:\\users\\bhanu pratap singh\\appdata\\local\\programs\\python\\python310\\lib\\site-packages (from aiohttp->gradio) (2.1.1)\n",
      "Requirement already satisfied: frozenlist>=1.1.1 in c:\\users\\bhanu pratap singh\\appdata\\local\\programs\\python\\python310\\lib\\site-packages (from aiohttp->gradio) (1.3.3)\n",
      "Requirement already satisfied: multidict<7.0,>=4.5 in c:\\users\\bhanu pratap singh\\appdata\\local\\programs\\python\\python310\\lib\\site-packages (from aiohttp->gradio) (6.0.4)\n",
      "Requirement already satisfied: attrs>=17.3.0 in c:\\users\\bhanu pratap singh\\appdata\\local\\programs\\python\\python310\\lib\\site-packages (from aiohttp->gradio) (22.1.0)\n",
      "Requirement already satisfied: async-timeout<5.0,>=4.0.0a3 in c:\\users\\bhanu pratap singh\\appdata\\local\\programs\\python\\python310\\lib\\site-packages (from aiohttp->gradio) (4.0.2)\n",
      "Requirement already satisfied: starlette<0.27.0,>=0.26.1 in c:\\users\\bhanu pratap singh\\appdata\\local\\programs\\python\\python310\\lib\\site-packages (from fastapi->gradio) (0.26.1)\n",
      "Requirement already satisfied: httpcore<0.17.0,>=0.15.0 in c:\\users\\bhanu pratap singh\\appdata\\local\\programs\\python\\python310\\lib\\site-packages (from httpx->gradio) (0.16.3)\n",
      "Requirement already satisfied: rfc3986[idna2008]<2,>=1.3 in c:\\users\\bhanu pratap singh\\appdata\\local\\programs\\python\\python310\\lib\\site-packages (from httpx->gradio) (1.5.0)\n",
      "Requirement already satisfied: sniffio in c:\\users\\bhanu pratap singh\\appdata\\local\\programs\\python\\python310\\lib\\site-packages (from httpx->gradio) (1.3.0)\n",
      "Requirement already satisfied: certifi in c:\\users\\bhanu pratap singh\\appdata\\local\\programs\\python\\python310\\lib\\site-packages (from httpx->gradio) (2022.9.14)\n",
      "Requirement already satisfied: contourpy>=1.0.1 in c:\\users\\bhanu pratap singh\\appdata\\local\\programs\\python\\python310\\lib\\site-packages (from matplotlib->gradio) (1.0.5)\n",
      "Requirement already satisfied: fonttools>=4.22.0 in c:\\users\\bhanu pratap singh\\appdata\\local\\programs\\python\\python310\\lib\\site-packages (from matplotlib->gradio) (4.37.1)\n",
      "Requirement already satisfied: pyparsing>=2.2.1 in c:\\users\\bhanu pratap singh\\appdata\\local\\programs\\python\\python310\\lib\\site-packages (from matplotlib->gradio) (3.0.9)\n",
      "Requirement already satisfied: cycler>=0.10 in c:\\users\\bhanu pratap singh\\appdata\\local\\programs\\python\\python310\\lib\\site-packages (from matplotlib->gradio) (0.11.0)\n",
      "Requirement already satisfied: kiwisolver>=1.0.1 in c:\\users\\bhanu pratap singh\\appdata\\local\\programs\\python\\python310\\lib\\site-packages (from matplotlib->gradio) (1.4.4)\n",
      "Requirement already satisfied: urllib3<1.27,>=1.21.1 in c:\\users\\bhanu pratap singh\\appdata\\local\\programs\\python\\python310\\lib\\site-packages (from requests->transformers) (1.26.12)\n",
      "Requirement already satisfied: idna<4,>=2.5 in c:\\users\\bhanu pratap singh\\appdata\\local\\programs\\python\\python310\\lib\\site-packages (from requests->transformers) (3.4)\n",
      "Requirement already satisfied: click>=7.0 in c:\\users\\bhanu pratap singh\\appdata\\local\\programs\\python\\python310\\lib\\site-packages (from uvicorn->gradio) (8.1.3)\n",
      "Requirement already satisfied: h11>=0.8 in c:\\users\\bhanu pratap singh\\appdata\\local\\programs\\python\\python310\\lib\\site-packages (from uvicorn->gradio) (0.14.0)\n",
      "Requirement already satisfied: anyio<5.0,>=3.0 in c:\\users\\bhanu pratap singh\\appdata\\local\\programs\\python\\python310\\lib\\site-packages (from httpcore<0.17.0,>=0.15.0->httpx->gradio) (3.6.2)\n",
      "Requirement already satisfied: parso<0.9.0,>=0.8.0 in c:\\users\\bhanu pratap singh\\appdata\\local\\programs\\python\\python310\\lib\\site-packages (from jedi>=0.16->ipython>=6.1.0->ipywidgets) (0.8.3)\n",
      "Requirement already satisfied: pyrsistent!=0.17.0,!=0.17.1,!=0.17.2,>=0.14.0 in c:\\users\\bhanu pratap singh\\appdata\\local\\programs\\python\\python310\\lib\\site-packages (from jsonschema>=3.0->altair>=4.2.0->gradio) (0.18.1)\n",
      "Requirement already satisfied: jupyter-core>=4.9.2 in c:\\users\\bhanu pratap singh\\appdata\\local\\programs\\python\\python310\\lib\\site-packages (from jupyter-client>=6.1.12->ipykernel>=4.5.1->ipywidgets) (5.1.3)\n",
      "Requirement already satisfied: uc-micro-py in c:\\users\\bhanu pratap singh\\appdata\\local\\programs\\python\\python310\\lib\\site-packages (from linkify-it-py<3,>=1->markdown-it-py[linkify]>=2.0.0->gradio) (1.0.1)\n",
      "Requirement already satisfied: wcwidth in c:\\users\\bhanu pratap singh\\appdata\\local\\programs\\python\\python310\\lib\\site-packages (from prompt-toolkit<3.1.0,>3.0.1->ipython>=6.1.0->ipywidgets) (0.2.5)\n",
      "Requirement already satisfied: six>=1.5 in c:\\users\\bhanu pratap singh\\appdata\\roaming\\python\\python310\\site-packages (from python-dateutil>=2.8.1->pandas->gradio) (1.16.0)\n",
      "Requirement already satisfied: asttokens in c:\\users\\bhanu pratap singh\\appdata\\local\\programs\\python\\python310\\lib\\site-packages (from stack-data->ipython>=6.1.0->ipywidgets) (2.0.8)\n",
      "Requirement already satisfied: executing in c:\\users\\bhanu pratap singh\\appdata\\local\\programs\\python\\python310\\lib\\site-packages (from stack-data->ipython>=6.1.0->ipywidgets) (1.0.0)\n",
      "Requirement already satisfied: pure-eval in c:\\users\\bhanu pratap singh\\appdata\\local\\programs\\python\\python310\\lib\\site-packages (from stack-data->ipython>=6.1.0->ipywidgets) (0.2.2)\n",
      "Requirement already satisfied: platformdirs>=2.5 in c:\\users\\bhanu pratap singh\\appdata\\local\\programs\\python\\python310\\lib\\site-packages (from jupyter-core>=4.9.2->jupyter-client>=6.1.12->ipykernel>=4.5.1->ipywidgets) (2.6.2)\n",
      "Requirement already satisfied: pywin32>=1.0 in c:\\users\\bhanu pratap singh\\appdata\\local\\programs\\python\\python310\\lib\\site-packages (from jupyter-core>=4.9.2->jupyter-client>=6.1.12->ipykernel>=4.5.1->ipywidgets) (304)\n",
      "Installing collected packages: widgetsnbextension, jupyterlab-widgets, ipywidgets\n",
      "  Attempting uninstall: widgetsnbextension\n",
      "    Found existing installation: widgetsnbextension 4.0.3\n",
      "    Uninstalling widgetsnbextension-4.0.3:\n",
      "      Successfully uninstalled widgetsnbextension-4.0.3\n",
      "  Attempting uninstall: jupyterlab-widgets\n",
      "    Found existing installation: jupyterlab-widgets 3.0.3\n",
      "    Uninstalling jupyterlab-widgets-3.0.3:\n",
      "      Successfully uninstalled jupyterlab-widgets-3.0.3\n",
      "  Attempting uninstall: ipywidgets\n",
      "    Found existing installation: ipywidgets 8.0.5\n",
      "    Uninstalling ipywidgets-8.0.5:\n",
      "      Successfully uninstalled ipywidgets-8.0.5\n",
      "Successfully installed ipywidgets-8.0.6 jupyterlab-widgets-3.0.7 widgetsnbextension-4.0.7\n"
     ]
    },
    {
     "name": "stderr",
     "output_type": "stream",
     "text": [
      "WARNING: Ignoring invalid distribution -ransformers (c:\\users\\bhanu pratap singh\\appdata\\local\\programs\\python\\python310\\lib\\site-packages)\n",
      "WARNING: Ignoring invalid distribution -atplotlib (c:\\users\\bhanu pratap singh\\appdata\\local\\programs\\python\\python310\\lib\\site-packages)\n",
      "WARNING: Ignoring invalid distribution -ransformers (c:\\users\\bhanu pratap singh\\appdata\\local\\programs\\python\\python310\\lib\\site-packages)\n",
      "WARNING: Ignoring invalid distribution -atplotlib (c:\\users\\bhanu pratap singh\\appdata\\local\\programs\\python\\python310\\lib\\site-packages)\n",
      "WARNING: Ignoring invalid distribution -ransformers (c:\\users\\bhanu pratap singh\\appdata\\local\\programs\\python\\python310\\lib\\site-packages)\n",
      "WARNING: Ignoring invalid distribution -atplotlib (c:\\users\\bhanu pratap singh\\appdata\\local\\programs\\python\\python310\\lib\\site-packages)\n",
      "    WARNING: Ignoring invalid distribution -ransformers (c:\\users\\bhanu pratap singh\\appdata\\local\\programs\\python\\python310\\lib\\site-packages)\n",
      "    WARNING: Ignoring invalid distribution -atplotlib (c:\\users\\bhanu pratap singh\\appdata\\local\\programs\\python\\python310\\lib\\site-packages)\n",
      "    WARNING: Ignoring invalid distribution -ransformers (c:\\users\\bhanu pratap singh\\appdata\\local\\programs\\python\\python310\\lib\\site-packages)\n",
      "    WARNING: Ignoring invalid distribution -atplotlib (c:\\users\\bhanu pratap singh\\appdata\\local\\programs\\python\\python310\\lib\\site-packages)\n",
      "    WARNING: Ignoring invalid distribution -ransformers (c:\\users\\bhanu pratap singh\\appdata\\local\\programs\\python\\python310\\lib\\site-packages)\n",
      "    WARNING: Ignoring invalid distribution -atplotlib (c:\\users\\bhanu pratap singh\\appdata\\local\\programs\\python\\python310\\lib\\site-packages)\n",
      "WARNING: Ignoring invalid distribution -ransformers (c:\\users\\bhanu pratap singh\\appdata\\local\\programs\\python\\python310\\lib\\site-packages)\n",
      "WARNING: Ignoring invalid distribution -atplotlib (c:\\users\\bhanu pratap singh\\appdata\\local\\programs\\python\\python310\\lib\\site-packages)\n",
      "WARNING: Ignoring invalid distribution -ransformers (c:\\users\\bhanu pratap singh\\appdata\\local\\programs\\python\\python310\\lib\\site-packages)\n",
      "WARNING: Ignoring invalid distribution -atplotlib (c:\\users\\bhanu pratap singh\\appdata\\local\\programs\\python\\python310\\lib\\site-packages)\n",
      "WARNING: Ignoring invalid distribution -ransformers (c:\\users\\bhanu pratap singh\\appdata\\local\\programs\\python\\python310\\lib\\site-packages)\n",
      "WARNING: Ignoring invalid distribution -atplotlib (c:\\users\\bhanu pratap singh\\appdata\\local\\programs\\python\\python310\\lib\\site-packages)\n",
      "WARNING: Ignoring invalid distribution -ransformers (c:\\users\\bhanu pratap singh\\appdata\\local\\programs\\python\\python310\\lib\\site-packages)\n",
      "WARNING: Ignoring invalid distribution -atplotlib (c:\\users\\bhanu pratap singh\\appdata\\local\\programs\\python\\python310\\lib\\site-packages)\n",
      "WARNING: Ignoring invalid distribution -ransformers (c:\\users\\bhanu pratap singh\\appdata\\local\\programs\\python\\python310\\lib\\site-packages)\n",
      "WARNING: Ignoring invalid distribution -atplotlib (c:\\users\\bhanu pratap singh\\appdata\\local\\programs\\python\\python310\\lib\\site-packages)\n",
      "WARNING: Ignoring invalid distribution -ransformers (c:\\users\\bhanu pratap singh\\appdata\\local\\programs\\python\\python310\\lib\\site-packages)\n",
      "WARNING: Ignoring invalid distribution -atplotlib (c:\\users\\bhanu pratap singh\\appdata\\local\\programs\\python\\python310\\lib\\site-packages)\n"
     ]
    }
   ],
   "source": [
    "!pip install transformers ipywidgets gradio --upgrade"
   ]
  },
  {
   "cell_type": "code",
   "execution_count": 2,
   "id": "4267f437",
   "metadata": {},
   "outputs": [
    {
     "name": "stdout",
     "output_type": "stream",
     "text": [
      "Note: you may need to restart the kernel to use updated packages.\n"
     ]
    },
    {
     "name": "stderr",
     "output_type": "stream",
     "text": [
      "WARNING: Ignoring invalid distribution -ransformers (c:\\users\\bhanu pratap singh\\appdata\\local\\programs\\python\\python310\\lib\\site-packages)\n",
      "WARNING: Ignoring invalid distribution -atplotlib (c:\\users\\bhanu pratap singh\\appdata\\local\\programs\\python\\python310\\lib\\site-packages)\n",
      "ERROR: Could not open requirements file: [Errno 2] No such file or directory: 'pytorch'\n",
      "WARNING: Ignoring invalid distribution -ransformers (c:\\users\\bhanu pratap singh\\appdata\\local\\programs\\python\\python310\\lib\\site-packages)\n",
      "WARNING: Ignoring invalid distribution -atplotlib (c:\\users\\bhanu pratap singh\\appdata\\local\\programs\\python\\python310\\lib\\site-packages)\n",
      "WARNING: Ignoring invalid distribution -ransformers (c:\\users\\bhanu pratap singh\\appdata\\local\\programs\\python\\python310\\lib\\site-packages)\n",
      "WARNING: Ignoring invalid distribution -atplotlib (c:\\users\\bhanu pratap singh\\appdata\\local\\programs\\python\\python310\\lib\\site-packages)\n",
      "WARNING: Ignoring invalid distribution -ransformers (c:\\users\\bhanu pratap singh\\appdata\\local\\programs\\python\\python310\\lib\\site-packages)\n",
      "WARNING: Ignoring invalid distribution -atplotlib (c:\\users\\bhanu pratap singh\\appdata\\local\\programs\\python\\python310\\lib\\site-packages)\n"
     ]
    }
   ],
   "source": [
    "%pip install pytorch torchvision -c pytorch"
   ]
  },
  {
   "cell_type": "code",
   "execution_count": 3,
   "id": "926aea4d",
   "metadata": {},
   "outputs": [
    {
     "name": "stdout",
     "output_type": "stream",
     "text": [
      "Looking in indexes: https://download.pytorch.org/whl/cu118\n",
      "Requirement already satisfied: torch in c:\\users\\bhanu pratap singh\\appdata\\local\\programs\\python\\python310\\lib\\site-packages (1.12.1)\n",
      "Requirement already satisfied: torchvision in c:\\users\\bhanu pratap singh\\appdata\\local\\programs\\python\\python310\\lib\\site-packages (0.13.1)\n",
      "Requirement already satisfied: torchaudio in c:\\users\\bhanu pratap singh\\appdata\\local\\programs\\python\\python310\\lib\\site-packages (0.12.1)\n",
      "Requirement already satisfied: typing-extensions in c:\\users\\bhanu pratap singh\\appdata\\local\\programs\\python\\python310\\lib\\site-packages (from torch) (4.3.0)\n",
      "Requirement already satisfied: pillow!=8.3.*,>=5.3.0 in c:\\users\\bhanu pratap singh\\appdata\\local\\programs\\python\\python310\\lib\\site-packages (from torchvision) (9.2.0)\n",
      "Requirement already satisfied: requests in c:\\users\\bhanu pratap singh\\appdata\\local\\programs\\python\\python310\\lib\\site-packages (from torchvision) (2.28.1)\n",
      "Requirement already satisfied: numpy in c:\\users\\bhanu pratap singh\\appdata\\roaming\\python\\python310\\site-packages (from torchvision) (1.24.2)\n",
      "Requirement already satisfied: urllib3<1.27,>=1.21.1 in c:\\users\\bhanu pratap singh\\appdata\\local\\programs\\python\\python310\\lib\\site-packages (from requests->torchvision) (1.26.12)\n",
      "Requirement already satisfied: idna<4,>=2.5 in c:\\users\\bhanu pratap singh\\appdata\\local\\programs\\python\\python310\\lib\\site-packages (from requests->torchvision) (3.4)\n",
      "Requirement already satisfied: certifi>=2017.4.17 in c:\\users\\bhanu pratap singh\\appdata\\local\\programs\\python\\python310\\lib\\site-packages (from requests->torchvision) (2022.9.14)\n",
      "Requirement already satisfied: charset-normalizer<3,>=2 in c:\\users\\bhanu pratap singh\\appdata\\local\\programs\\python\\python310\\lib\\site-packages (from requests->torchvision) (2.1.1)\n"
     ]
    },
    {
     "name": "stderr",
     "output_type": "stream",
     "text": [
      "WARNING: Ignoring invalid distribution -ransformers (c:\\users\\bhanu pratap singh\\appdata\\local\\programs\\python\\python310\\lib\\site-packages)\n",
      "WARNING: Ignoring invalid distribution -atplotlib (c:\\users\\bhanu pratap singh\\appdata\\local\\programs\\python\\python310\\lib\\site-packages)\n",
      "WARNING: Ignoring invalid distribution -ransformers (c:\\users\\bhanu pratap singh\\appdata\\local\\programs\\python\\python310\\lib\\site-packages)\n",
      "WARNING: Ignoring invalid distribution -atplotlib (c:\\users\\bhanu pratap singh\\appdata\\local\\programs\\python\\python310\\lib\\site-packages)\n",
      "WARNING: Ignoring invalid distribution -ransformers (c:\\users\\bhanu pratap singh\\appdata\\local\\programs\\python\\python310\\lib\\site-packages)\n",
      "WARNING: Ignoring invalid distribution -atplotlib (c:\\users\\bhanu pratap singh\\appdata\\local\\programs\\python\\python310\\lib\\site-packages)\n",
      "WARNING: Ignoring invalid distribution -ransformers (c:\\users\\bhanu pratap singh\\appdata\\local\\programs\\python\\python310\\lib\\site-packages)\n",
      "WARNING: Ignoring invalid distribution -atplotlib (c:\\users\\bhanu pratap singh\\appdata\\local\\programs\\python\\python310\\lib\\site-packages)\n",
      "WARNING: Ignoring invalid distribution -ransformers (c:\\users\\bhanu pratap singh\\appdata\\local\\programs\\python\\python310\\lib\\site-packages)\n",
      "WARNING: Ignoring invalid distribution -atplotlib (c:\\users\\bhanu pratap singh\\appdata\\local\\programs\\python\\python310\\lib\\site-packages)\n",
      "WARNING: Ignoring invalid distribution -ransformers (c:\\users\\bhanu pratap singh\\appdata\\local\\programs\\python\\python310\\lib\\site-packages)\n",
      "WARNING: Ignoring invalid distribution -atplotlib (c:\\users\\bhanu pratap singh\\appdata\\local\\programs\\python\\python310\\lib\\site-packages)\n"
     ]
    }
   ],
   "source": [
    "!pip3 install torch torchvision torchaudio --index-url https://download.pytorch.org/whl/cu118\n"
   ]
  },
  {
   "cell_type": "code",
   "execution_count": 4,
   "id": "09a4276c",
   "metadata": {},
   "outputs": [],
   "source": [
    "import gradio as gr # ui library \n",
    "from transformers import pipeline"
   ]
  },
  {
   "cell_type": "code",
   "execution_count": 5,
   "id": "1b64e6c5",
   "metadata": {},
   "outputs": [
    {
     "name": "stdout",
     "output_type": "stream",
     "text": [
      "Requirement already satisfied: sentencepiece in c:\\users\\bhanu pratap singh\\appdata\\local\\programs\\python\\python310\\lib\\site-packages (0.1.97)\n"
     ]
    },
    {
     "name": "stderr",
     "output_type": "stream",
     "text": [
      "WARNING: Ignoring invalid distribution -ransformers (c:\\users\\bhanu pratap singh\\appdata\\local\\programs\\python\\python310\\lib\\site-packages)\n",
      "WARNING: Ignoring invalid distribution -atplotlib (c:\\users\\bhanu pratap singh\\appdata\\local\\programs\\python\\python310\\lib\\site-packages)\n",
      "WARNING: Ignoring invalid distribution -ransformers (c:\\users\\bhanu pratap singh\\appdata\\local\\programs\\python\\python310\\lib\\site-packages)\n",
      "WARNING: Ignoring invalid distribution -atplotlib (c:\\users\\bhanu pratap singh\\appdata\\local\\programs\\python\\python310\\lib\\site-packages)\n",
      "WARNING: Ignoring invalid distribution -ransformers (c:\\users\\bhanu pratap singh\\appdata\\local\\programs\\python\\python310\\lib\\site-packages)\n",
      "WARNING: Ignoring invalid distribution -atplotlib (c:\\users\\bhanu pratap singh\\appdata\\local\\programs\\python\\python310\\lib\\site-packages)\n",
      "WARNING: Ignoring invalid distribution -ransformers (c:\\users\\bhanu pratap singh\\appdata\\local\\programs\\python\\python310\\lib\\site-packages)\n",
      "WARNING: Ignoring invalid distribution -atplotlib (c:\\users\\bhanu pratap singh\\appdata\\local\\programs\\python\\python310\\lib\\site-packages)\n",
      "WARNING: Ignoring invalid distribution -ransformers (c:\\users\\bhanu pratap singh\\appdata\\local\\programs\\python\\python310\\lib\\site-packages)\n",
      "WARNING: Ignoring invalid distribution -atplotlib (c:\\users\\bhanu pratap singh\\appdata\\local\\programs\\python\\python310\\lib\\site-packages)\n",
      "WARNING: Ignoring invalid distribution -ransformers (c:\\users\\bhanu pratap singh\\appdata\\local\\programs\\python\\python310\\lib\\site-packages)\n",
      "WARNING: Ignoring invalid distribution -atplotlib (c:\\users\\bhanu pratap singh\\appdata\\local\\programs\\python\\python310\\lib\\site-packages)\n"
     ]
    }
   ],
   "source": [
    "!pip install sentencepiece"
   ]
  },
  {
   "cell_type": "code",
   "execution_count": 6,
   "id": "6e991c13",
   "metadata": {},
   "outputs": [],
   "source": [
    "import sentencepiece"
   ]
  },
  {
   "cell_type": "code",
   "execution_count": 8,
   "id": "7858d96b",
   "metadata": {},
   "outputs": [
    {
     "name": "stderr",
     "output_type": "stream",
     "text": [
      "C:\\Users\\BHANU PRATAP SINGH\\AppData\\Local\\Programs\\Python\\Python310\\lib\\site-packages\\transformers\\models\\marian\\tokenization_marian.py:194: UserWarning: Recommended: pip install sacremoses.\n",
      "  warnings.warn(\"Recommended: pip install sacremoses.\")\n"
     ]
    },
    {
     "data": {
      "application/vnd.jupyter.widget-view+json": {
       "model_id": "f80dd74c4f16450b922c6de6f2defc7c",
       "version_major": 2,
       "version_minor": 0
      },
      "text/plain": [
       "Downloading pytorch_model.bin:   0%|          | 0.00/306M [00:00<?, ?B/s]"
      ]
     },
     "metadata": {},
     "output_type": "display_data"
    },
    {
     "data": {
      "application/vnd.jupyter.widget-view+json": {
       "model_id": "6d791b9696344aee92dbd22b78ca5399",
       "version_major": 2,
       "version_minor": 0
      },
      "text/plain": [
       "Downloading (…)neration_config.json:   0%|          | 0.00/293 [00:00<?, ?B/s]"
      ]
     },
     "metadata": {},
     "output_type": "display_data"
    }
   ],
   "source": [
    "from transformers import AutoTokenizer, AutoModelForSeq2SeqLM\n",
    "tokenizer = AutoTokenizer.from_pretrained(\"Helsinki-NLP/opus-mt-en-hi\", use_fast=False)\n",
    "model = AutoModelForSeq2SeqLM.from_pretrained(\"Helsinki-NLP/opus-mt-en-hi\")"
   ]
  },
  {
   "cell_type": "code",
   "execution_count": 18,
   "id": "5988555d",
   "metadata": {},
   "outputs": [],
   "source": [
    "input_text = \"hindi\"\n",
    "input_ids = tokenizer.encode(input_text, return_tensors=\"pt\")"
   ]
  },
  {
   "cell_type": "code",
   "execution_count": 23,
   "id": "9aff21d5",
   "metadata": {},
   "outputs": [
    {
     "name": "stdout",
     "output_type": "stream",
     "text": [
      "हरिणी\n"
     ]
    }
   ],
   "source": [
    "outputs = model.generate(input_ids=input_ids, max_new_tokens=128, num_beams=10, early_stopping=True)\n",
    "translated_text = tokenizer.decode(outputs[0], skip_special_tokens=True)\n",
    "print(translated_text)"
   ]
  },
  {
   "cell_type": "code",
   "execution_count": 24,
   "id": "7ea1cf39",
   "metadata": {},
   "outputs": [
    {
     "data": {
      "text/plain": [
       "'योजोन पापो'"
      ]
     },
     "execution_count": 24,
     "metadata": {},
     "output_type": "execute_result"
    }
   ],
   "source": [
    "def translate_transformers(from_text):\n",
    "    results = tokenizer(from_text, return_tensors='pt')\n",
    "    translated = model.generate(**results)\n",
    "    return tokenizer.decode(translated[0], skip_special_tokens=True)\n",
    "    \n",
    "translate_transformers(\"have a good day\")"
   ]
  },
  {
   "cell_type": "code",
   "execution_count": 26,
   "id": "89ae1130",
   "metadata": {},
   "outputs": [
    {
     "name": "stderr",
     "output_type": "stream",
     "text": [
      "C:\\Users\\BHANU PRATAP SINGH\\AppData\\Local\\Programs\\Python\\Python310\\lib\\site-packages\\gradio\\inputs.py:27: UserWarning: Usage of gradio.inputs is deprecated, and will not be supported in the future, please import your component from gradio.components\n",
      "  warnings.warn(\n",
      "C:\\Users\\BHANU PRATAP SINGH\\AppData\\Local\\Programs\\Python\\Python310\\lib\\site-packages\\gradio\\deprecation.py:40: UserWarning: `optional` parameter is deprecated, and it has no effect\n",
      "  warnings.warn(value)\n",
      "C:\\Users\\BHANU PRATAP SINGH\\AppData\\Local\\Programs\\Python\\Python310\\lib\\site-packages\\gradio\\deprecation.py:40: UserWarning: `numeric` parameter is deprecated, and it has no effect\n",
      "  warnings.warn(value)\n"
     ]
    }
   ],
   "source": [
    "interface = gr.Interface(fn=translate_transformers, inputs=gr.inputs.Textbox(lines=2, placeholder=\"TEXT TO TRANSLATE\"),\n",
    "                        outputs='text')"
   ]
  },
  {
   "cell_type": "code",
   "execution_count": 27,
   "id": "3d71d91d",
   "metadata": {},
   "outputs": [
    {
     "name": "stdout",
     "output_type": "stream",
     "text": [
      "Running on local URL:  http://127.0.0.1:7860\n",
      "\n",
      "To create a public link, set `share=True` in `launch()`.\n"
     ]
    },
    {
     "data": {
      "text/html": [
       "<div><iframe src=\"http://127.0.0.1:7860/\" width=\"100%\" height=\"500\" allow=\"autoplay; camera; microphone; clipboard-read; clipboard-write;\" frameborder=\"0\" allowfullscreen></iframe></div>"
      ],
      "text/plain": [
       "<IPython.core.display.HTML object>"
      ]
     },
     "metadata": {},
     "output_type": "display_data"
    },
    {
     "data": {
      "text/plain": []
     },
     "execution_count": 27,
     "metadata": {},
     "output_type": "execute_result"
    },
    {
     "name": "stderr",
     "output_type": "stream",
     "text": [
      "C:\\Users\\BHANU PRATAP SINGH\\AppData\\Local\\Programs\\Python\\Python310\\lib\\site-packages\\transformers\\generation\\utils.py:1288: UserWarning: Using `max_length`'s default (512) to control the generation length. This behaviour is deprecated and will be removed from the config in v5 of Transformers -- we recommend using `max_new_tokens` to control the maximum length of the generation.\n",
      "  warnings.warn(\n"
     ]
    }
   ],
   "source": [
    "interface.launch()"
   ]
  },
  {
   "cell_type": "code",
   "execution_count": null,
   "id": "240164b9",
   "metadata": {},
   "outputs": [],
   "source": []
  },
  {
   "cell_type": "code",
   "execution_count": null,
   "id": "6b322c6f",
   "metadata": {},
   "outputs": [],
   "source": []
  },
  {
   "cell_type": "code",
   "execution_count": null,
   "id": "2cf34f76",
   "metadata": {},
   "outputs": [],
   "source": []
  },
  {
   "cell_type": "code",
   "execution_count": null,
   "id": "61a4645b",
   "metadata": {},
   "outputs": [],
   "source": []
  }
 ],
 "metadata": {
  "kernelspec": {
   "display_name": "Python 3 (ipykernel)",
   "language": "python",
   "name": "python3"
  },
  "language_info": {
   "codemirror_mode": {
    "name": "ipython",
    "version": 3
   },
   "file_extension": ".py",
   "mimetype": "text/x-python",
   "name": "python",
   "nbconvert_exporter": "python",
   "pygments_lexer": "ipython3",
   "version": "3.10.9"
  }
 },
 "nbformat": 4,
 "nbformat_minor": 5
}
